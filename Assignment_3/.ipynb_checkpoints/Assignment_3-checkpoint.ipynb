{
 "cells": [
  {
   "cell_type": "code",
   "execution_count": null,
   "metadata": {},
   "outputs": [],
   "source": [
    "%matplotlib inline\n",
    "import scipy\n",
    "import numpy as np\n",
    "import matplotlib.pyplot as plt\n",
    "import ODE_solver as ODE\n",
    "import astropy.units as u\n",
    "import astropy.constants as const"
   ]
  },
  {
   "cell_type": "markdown",
   "metadata": {},
   "source": [
    "# Problem 2 - Solving the Damped Pendulum"
   ]
  },
  {
   "cell_type": "markdown",
   "metadata": {},
   "source": [
    "Define the ODEs that will solve the equations of the damped pendulum. The following cells are taken directly from the odeint documentation found here: https://docs.scipy.org/doc/scipy/reference/generated/scipy.integrate.odeint.html"
   ]
  },
  {
   "cell_type": "code",
   "execution_count": null,
   "metadata": {},
   "outputs": [],
   "source": [
    "def pend(y, t, b, c):\n",
    "    theta, omega = y\n",
    "    dydt = [omega, -b*omega - c*np.sin(theta)]\n",
    "    return dydt"
   ]
  },
  {
   "cell_type": "code",
   "execution_count": null,
   "metadata": {},
   "outputs": [],
   "source": [
    "b = 0.25\n",
    "c = 5.0\n",
    "y0 = [np.pi - 0.1, 0.0]\n",
    "t = np.arange(0, 10, 0.01)"
   ]
  },
  {
   "cell_type": "code",
   "execution_count": null,
   "metadata": {},
   "outputs": [],
   "source": [
    "from scipy.integrate import odeint\n",
    "sol = odeint(pend, y0, t, args=(b,c))"
   ]
  },
  {
   "cell_type": "code",
   "execution_count": null,
   "metadata": {
    "scrolled": true
   },
   "outputs": [],
   "source": [
    "plt.plot(t, sol[:,0], 'b', label='theta(t)')\n",
    "plt.plot(t, sol[:,1], 'g', label='omega(t)')\n",
    "plt.legend(loc='best')\n",
    "plt.xlabel('t')\n",
    "plt.grid()\n",
    "plt.show()"
   ]
  },
  {
   "cell_type": "markdown",
   "metadata": {},
   "source": [
    "Now we will solve the same set of equations using my 3 ODE solvers and compare the results. "
   ]
  },
  {
   "cell_type": "code",
   "execution_count": null,
   "metadata": {},
   "outputs": [],
   "source": [
    "## We have to define the function we want to solve, pend_ODE, as the output of another function that\n",
    "## will pass the paramaters, b and c. This is due to the fact that my ODE solvers expect a function that takes input\n",
    "## in the form (x, y) - in order to consider b and c, I would have to hardcode these inputs into my ODE solvers.\n",
    "## But, we want the ODE solvers to be as general as possible. So hardcoding would be bad practice.\n",
    "## Therefore, I can get around that by defining a function that sends the additional paramaters to the function\n",
    "## we are solving for.\n",
    "def pend_params(b, c):\n",
    "    def pend_ODE(x, y):\n",
    "        dydt = [y[1], -b*y[1] - c*np.sin(y[0])]\n",
    "        return dydt\n",
    "    return pend_ODE\n",
    "\n",
    "## Define the points we want to the values of theta and omega at.\n",
    "x = np.arange(0, 10, 0.01)"
   ]
  },
  {
   "cell_type": "code",
   "execution_count": null,
   "metadata": {},
   "outputs": [],
   "source": [
    "## Solve the equations using my 3 ODE solvers.\n",
    "y_euler = ODE.euler_method(pend_params(0.25, 5.0), y0, x, 0.01)\n",
    "y_heuns = ODE.heuns_method(pend_params(0.25, 5.0), y0, x, 0.01)\n",
    "y_rk4 = ODE.rk4_method(pend_params(0.25, 5.0), y0, x, 0.01)"
   ]
  },
  {
   "cell_type": "code",
   "execution_count": null,
   "metadata": {
    "scrolled": true
   },
   "outputs": [],
   "source": [
    "## Plot all of the results.\n",
    "\n",
    "\n",
    "plt.figure(figsize=(5,3))\n",
    "plt.title('Euler Solution')\n",
    "plt.plot(x, y_euler[:,0], 'b', label='theta(t)')\n",
    "plt.plot(x, y_euler[:,1], 'g', label='omega(t)')\n",
    "plt.legend(loc='best')\n",
    "plt.xlabel('t')\n",
    "plt.grid()\n",
    "plt.show()\n",
    "\n",
    "plt.figure(figsize=(5,3))\n",
    "plt.title('Heuns Solution')\n",
    "plt.plot(x, y_heuns[:,0], 'b', label='theta(t)')\n",
    "plt.plot(x, y_heuns[:,1], 'g', label='omega(t)')\n",
    "plt.legend(loc='best')\n",
    "plt.xlabel('t')\n",
    "plt.grid()\n",
    "plt.show()\n",
    "\n",
    "plt.figure(figsize=(5,3))\n",
    "plt.title('RK4 Solution')\n",
    "plt.plot(x, y_rk4[:,0], 'b', label='theta(t)')\n",
    "plt.plot(x, y_rk4[:,1], 'g', label='omega(t)')\n",
    "plt.legend(loc='best')\n",
    "plt.xlabel('t')\n",
    "plt.grid()\n",
    "plt.show()"
   ]
  },
  {
   "cell_type": "markdown",
   "metadata": {},
   "source": [
    "We can also plot the absolute error between the two results to see how close to scipy.odeint our RK4 method gets. They differ by no more than $ \\approx 5 \\times 10^{-7} $."
   ]
  },
  {
   "cell_type": "code",
   "execution_count": null,
   "metadata": {},
   "outputs": [],
   "source": [
    "## Define absolute error as:\n",
    "def abs_error(a, b):\n",
    "    return np.abs(a - b)\n",
    "\n",
    "## Calculate the absolute error.\n",
    "error_theta = abs_error(y_rk4[:,0], sol[:,0])\n",
    "error_omega = abs_error(y_rk4[:,1], sol[:,1])\n",
    "\n",
    "## Plot the error\n",
    "plt.figure(figsize=(5,3))\n",
    "plt.title('Absolute Error, RK4 vs odeint')\n",
    "plt.plot(x, error_theta, label = r\" $\\theta$ Error\")\n",
    "plt.plot(x, error_omega, label = r\" $\\Omega$ Error\")\n",
    "plt.xlabel('x')\n",
    "plt.legend()\n",
    "plt.show()"
   ]
  },
  {
   "cell_type": "markdown",
   "metadata": {},
   "source": [
    "# Problem 3 - Stiff ODE Test"
   ]
  },
  {
   "cell_type": "markdown",
   "metadata": {},
   "source": [
    "We will now solve this equation numerically:\n",
    "\n",
    "$\\frac{dy(t)}{dt} = -\\lambda (y(t) - \\cos(t))$ with $y(0) = 0$.\n",
    "\n",
    "And compare it to the analytical solution of the form:\n",
    "\n",
    "$y(t) = -\\frac{\\lambda^2}{1 + \\lambda^2} e^{-\\lambda t} + \\frac{\\lambda}{1 + \\lambda^2} \\sin(t) + \\frac{\\lambda^2}{1 + \\lambda^2} \\cos(t)$"
   ]
  },
  {
   "cell_type": "code",
   "execution_count": null,
   "metadata": {},
   "outputs": [],
   "source": [
    "x = np.arange(0, 5, 0.001)\n",
    "y0 = 0.0\n",
    "lam = 11\n",
    "\n",
    "## Define the stiff ODE given in above.\n",
    "def stiff_ODE_params(lam):\n",
    "    def stiff_ODE(x, y):\n",
    "        dydt = -lam * (y - np.cos(y))\n",
    "        return dydt\n",
    "    return stiff_ODE\n",
    "\n",
    "## Define the exact solution.\n",
    "def stiff_ODE_exact(lam, x):\n",
    "    return lam/(1 + lam**2.0) * np.sin(x) + lam**2/(1 + lam**2) * np.cos(x) - lam**2/(1 + lam**2) * np.exp(-lam * x)\n",
    "\n",
    "## Solve the equations using my 3 ODE solvers.\n",
    "y_stiff_euler = ODE.euler_method(stiff_ODE_params(lam), y0, x, 0.001)\n",
    "y_stiff_heuns = ODE.heuns_method(stiff_ODE_params(lam), y0, x, 0.001)\n",
    "y_stiff_rk4 = ODE.rk4_method(stiff_ODE_params(lam), y0, x, 0.001)\n",
    "y_stiff_exact = stiff_ODE_exact(lam, x)"
   ]
  },
  {
   "cell_type": "code",
   "execution_count": null,
   "metadata": {},
   "outputs": [],
   "source": [
    "## Plot the solutions\n",
    "plt.plot(x, y_stiff_exact, 'r', label='Analytical Solution')\n",
    "plt.plot(x, y_stiff_euler, label='Numerical Solution')\n",
    "plt.xlabel('t')\n",
    "plt.legend(loc = 'upper right')\n",
    "plt.show()\n"
   ]
  },
  {
   "cell_type": "markdown",
   "metadata": {},
   "source": [
    "I am unable to solve this ODE with my numerical integrators. I've tried lowering the timestep from 0.01 down to 0.0000001 in increments of 0.1 with no promising results. According to many resources online, sometimes a very small timestep can be used to solve stiff ODEs with explicit methods. That doesn't seem to work for me. Nevertheless, I can only get through $\\approx 250$ timesteps before the integrator fails. "
   ]
  },
  {
   "cell_type": "markdown",
   "metadata": {},
   "source": [
    "# Problem 4 - White Dwarf Mass vs Radius"
   ]
  },
  {
   "cell_type": "code",
   "execution_count": 6,
   "metadata": {},
   "outputs": [
    {
     "name": "stderr",
     "output_type": "stream",
     "text": [
      "/Users/brendandrachler/opt/anaconda3/lib/python3.7/site-packages/astropy/units/quantity.py:481: RuntimeWarning: invalid value encountered in power\n",
      "  result = super().__array_ufunc__(function, method, *arrays, **kwargs)\n"
     ]
    }
   ],
   "source": [
    "def pressure_calc(dens):\n",
    "    dens = dens * u.g / u.cm**3\n",
    "    h = const.h\n",
    "    amu = const.u\n",
    "    m_e = const.m_e\n",
    "    \n",
    "    return ((1/20 * (3/np.pi)**(2/3) * h**2 / (m_e * amu**(5/3)) * (dens/2)**(5/3)).to(u.Ba)).value\n",
    "    \n",
    "def density_calc(pres):\n",
    "    h = const.h\n",
    "    amu = const.u\n",
    "    m_e = const.m_e\n",
    "    \n",
    "    pres = pres * u.Ba\n",
    "    \n",
    "    c1 = 20 / (3/np.pi)**(2/3)\n",
    "    c2 = (m_e * amu**(5/3))/h**2 * 2**(5/3)\n",
    "    \n",
    "    return (((pres * c1 * c2)**(3/5)).to(u.g / u.cm**3)).value\n",
    "\n",
    "def calc_WD(x, y):\n",
    "    pi = np.pi\n",
    "    G = const.G.cgs\n",
    "    \n",
    "    pressure = y[0] \n",
    "    M_enc = y[1]\n",
    "        \n",
    "    \n",
    "    density = density_calc(pressure)\n",
    "    \n",
    "    if M_enc == 0:\n",
    "        dP_dr = 0\n",
    "    \n",
    "    else:\n",
    "        dP_dr = -G.value * M_enc * density/x**2\n",
    "        \n",
    "    dm_dr = 4 * pi * x**2 * density\n",
    "    \n",
    "    if pressure < 0:\n",
    "        dP_dr = 0\n",
    "        dm_dr = 0\n",
    "    \n",
    "    return [dP_dr, dm_dr]\n",
    "    \n",
    "r = np.arange(0, 3e9, 5e6)\n",
    "\n",
    "dens_0 = 1e7\n",
    "\n",
    "y0 = [pressure_calc(dens_0), 0]\n",
    "\n",
    "y_WD_rk4 = ODE.rk4_method(calc_WD, y0, r, 5e6)"
   ]
  },
  {
   "cell_type": "code",
   "execution_count": 36,
   "metadata": {
    "scrolled": false
   },
   "outputs": [
    {
     "data": {
      "text/plain": [
       "[<matplotlib.lines.Line2D at 0x11aeb0f90>]"
      ]
     },
     "execution_count": 36,
     "metadata": {},
     "output_type": "execute_result"
    },
    {
     "data": {
      "image/png": "[encoded data removed]",
      "text/plain": [
       "<Figure size 432x288 with 1 Axes>"
      ]
     },
     "metadata": {
      "needs_background": "light"
     },
     "output_type": "display_data"
    }
   ],
   "source": [
    "r_new = ((r * u.cm).to(u.R_sun)).value\n",
    "M_new = ((y_WD_rk4[:,1] * u.g).to(u.M_sun)).value\n",
    "#plt.plot(M_new, r_new)\n",
    "plt.plot(M_new[:130], np.flip(r_new)[:130])"
   ]
  },
  {
   "cell_type": "markdown",
   "metadata": {},
   "source": [
    "# Problem 5 - Neutron Star Mass vs Radius"
   ]
  },
  {
   "cell_type": "code",
   "execution_count": 53,
   "metadata": {},
   "outputs": [],
   "source": [
    "def pressure_calc_NS(dens):\n",
    "    dens = dens * u.g / u.cm**3\n",
    "    h = const.h\n",
    "    amu = const.u\n",
    "    m_n = const.m_n\n",
    "    \n",
    "    return ((1/20 * (3/np.pi)**(2/3) * h**2 / m_n**(8/3) * (dens)**(5/3)).to(u.Ba)).value\n",
    "    \n",
    "def density_calc_NS(pres):\n",
    "    h = const.h\n",
    "    amu = const.u\n",
    "    m_n = const.m_n\n",
    "    \n",
    "    pres = pres * u.Ba\n",
    "    \n",
    "    c1 = 20 / (3/np.pi)**(2/3)\n",
    "    c2 = (m_n**(8/3))/h**2\n",
    "    \n",
    "    return (((pres * c1 * c2)**(3/5)).to(u.g / u.cm**3)).value\n",
    "\n",
    "def calc_NS(x, y):\n",
    "    pi = np.pi\n",
    "    G = const.G.cgs\n",
    "    \n",
    "    pressure = y[0] \n",
    "    M_enc = y[1]\n",
    "        \n",
    "    \n",
    "    density = density_calc_NS(pressure)\n",
    "    \n",
    "    if M_enc == 0:\n",
    "        dP_dr = 0\n",
    "    \n",
    "    else:\n",
    "        dP_dr = -G.value * M_enc * density/x**2\n",
    "        \n",
    "    dm_dr = 4 * pi * x**2 * density\n",
    "    \n",
    "    if pressure < 0:\n",
    "        dP_dr = 0\n",
    "        dm_dr = 0\n",
    "    \n",
    "    return [dP_dr, dm_dr]\n",
    "    \n",
    "r = np.arange(0, 2e6, 5e2)\n",
    "\n",
    "dens_0 = 1e16\n",
    "\n",
    "y0 = [pressure_calc_NS(dens_0), 0]\n",
    "\n",
    "y_NS_rk4 = ODE.rk4_method(calc_WD, y0, r, 5e2)"
   ]
  },
  {
   "cell_type": "code",
   "execution_count": 65,
   "metadata": {},
   "outputs": [
    {
     "data": {
      "text/plain": [
       "(6, 20)"
      ]
     },
     "execution_count": 65,
     "metadata": {},
     "output_type": "execute_result"
    },
    {
     "data": {
      "image/png": "[encoded data removed]",
      "text/plain": [
       "<Figure size 432x288 with 1 Axes>"
      ]
     },
     "metadata": {
      "needs_background": "light"
     },
     "output_type": "display_data"
    }
   ],
   "source": [
    "r_new = ((r * u.cm).to(u.km)).value\n",
    "M_new = ((y_NS_rk4[:,1] * u.g).to(u.M_sun)).value\n",
    "#plt.plot(M_new, r_new)\n",
    "plt.plot(np.flip(r_new)[:1300], M_new[:1300])\n",
    "plt.xlim(6, 20)"
   ]
  },
  {
   "cell_type": "code",
   "execution_count": null,
   "metadata": {},
   "outputs": [],
   "source": []
  }
 ],
 "metadata": {
  "kernelspec": {
   "display_name": "Python 3",
   "language": "python",
   "name": "python3"
  },
  "language_info": {
   "codemirror_mode": {
    "name": "ipython",
    "version": 3
   },
   "file_extension": ".py",
   "mimetype": "text/x-python",
   "name": "python",
   "nbconvert_exporter": "python",
   "pygments_lexer": "ipython3",
   "version": "3.7.4"
  }
 },
 "nbformat": 4,
 "nbformat_minor": 4
}
