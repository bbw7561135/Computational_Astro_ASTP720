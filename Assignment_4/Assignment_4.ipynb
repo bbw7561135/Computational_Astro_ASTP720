{
 "cells": [
  {
   "cell_type": "markdown",
   "metadata": {},
   "source": [
    "## Import packages!"
   ]
  },
  {
   "cell_type": "code",
   "execution_count": 1,
   "metadata": {},
   "outputs": [],
   "source": [
    "import numpy as np\n",
    "import astropy.constants as const\n",
    "import astropy.units as u\n",
    "from cosmolopy import constants\n",
    "import matplotlib.pyplot as plt\n",
    "from mpl_toolkits.mplot3d import Axes3D\n",
    "import barnes_hut as bh\n",
    "%matplotlib inline\n",
    "%matplotlib notebook"
   ]
  },
  {
   "cell_type": "markdown",
   "metadata": {},
   "source": [
    "## Load data files containing initial positions of galaxies."
   ]
  },
  {
   "cell_type": "code",
   "execution_count": 2,
   "metadata": {},
   "outputs": [],
   "source": [
    "galaxy_init = 'galaxies0.npy'\n",
    "galaxy_step = 'galaxies1.npy'\n",
    "gal_past = np.load(galaxy_init)\n",
    "gal_current = np.load(galaxy_step)"
   ]
  },
  {
   "cell_type": "markdown",
   "metadata": {},
   "source": [
    "## Evolve the galaxy cluster!"
   ]
  },
  {
   "cell_type": "code",
   "execution_count": null,
   "metadata": {
    "scrolled": true
   },
   "outputs": [],
   "source": [
    "num_steps = 10000\n",
    "\n",
    "for i in range(0, num_steps):\n",
    "    \n",
    "    ## Calculate the acceleration of each galaxy.\n",
    "    accel = bh.calc_accel(gal_current, np.full(len(gal_current), 1e12))\n",
    "    \n",
    "    ## Update the positions of each galaxy.\n",
    "    pos = bh.calc_position(gal_current, gal_past, accel)\n",
    "    \n",
    "    ## The current timestep will become the n-1 timestep.\n",
    "    gal_past = gal_current\n",
    "    \n",
    "    ## The updated position will become the n timestep.\n",
    "    gal_current = pos\n",
    "    \n",
    "    ## Every 100 iterations, output a plot of the data and the \n",
    "    ## positional data for post processing.\n",
    "    if i % 100 == 0:\n",
    "        fig = plt.figure()\n",
    "        ax = fig.add_subplot(111, projection = '3d')\n",
    "        ax.set_xlim(0,13)\n",
    "        ax.set_zlim(0,13)\n",
    "        ax.set_ylim(0,13)\n",
    "        ax.set_xlabel('X')\n",
    "        ax.set_ylabel('Y')\n",
    "        ax.set_zlabel('Z')\n",
    "        plt.tight_layout()\n",
    "        ax.plot(gal_current[:,0], gal_current[:,1], gal_current[:,2], '.',color='k')\n",
    "        plt.savefig('plots/galaxies_%06d.png' % i)\n",
    "        \n",
    "        np.savetxt('plots/galaxy_pos_%06d.txt' % i, gal_current)\n",
    "        \n",
    "        print(i)"
   ]
  },
  {
   "cell_type": "code",
   "execution_count": 3,
   "metadata": {},
   "outputs": [
    {
     "data": {
      "text/plain": [
       "array([2.10404731, 0.01458301, 7.23985767])"
      ]
     },
     "execution_count": 3,
     "metadata": {},
     "output_type": "execute_result"
    }
   ],
   "source": [
    "gal_past[0]"
   ]
  },
  {
   "cell_type": "code",
   "execution_count": 4,
   "metadata": {},
   "outputs": [
    {
     "data": {
      "text/plain": [
       "array([2.10404747, 0.01458291, 7.23985767])"
      ]
     },
     "execution_count": 4,
     "metadata": {},
     "output_type": "execute_result"
    }
   ],
   "source": [
    "gal_current[0]"
   ]
  },
  {
   "cell_type": "code",
   "execution_count": 7,
   "metadata": {},
   "outputs": [
    {
     "data": {
      "text/plain": [
       "array([1.99899490e-07, 1.99818015e-07, 4.44089210e-16])"
      ]
     },
     "execution_count": 7,
     "metadata": {},
     "output_type": "execute_result"
    }
   ],
   "source": [
    "np.max(np.subtract(gal_past, gal_current), axis=0)"
   ]
  },
  {
   "cell_type": "code",
   "execution_count": null,
   "metadata": {},
   "outputs": [],
   "source": []
  }
 ],
 "metadata": {
  "kernelspec": {
   "display_name": "Python 3",
   "language": "python",
   "name": "python3"
  },
  "language_info": {
   "codemirror_mode": {
    "name": "ipython",
    "version": 3
   },
   "file_extension": ".py",
   "mimetype": "text/x-python",
   "name": "python",
   "nbconvert_exporter": "python",
   "pygments_lexer": "ipython3",
   "version": "3.7.4"
  }
 },
 "nbformat": 4,
 "nbformat_minor": 4
}
