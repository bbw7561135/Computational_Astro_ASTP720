{
 "cells": [
  {
   "cell_type": "markdown",
   "metadata": {},
   "source": [
    "## Import packages!"
   ]
  },
  {
   "cell_type": "code",
   "execution_count": 4,
   "metadata": {},
   "outputs": [],
   "source": [
    "import numpy as np\n",
    "import astropy.constants as const\n",
    "import astropy.units as u\n",
    "from cosmolopy import constants\n",
    "import matplotlib.pyplot as plt\n",
    "from mpl_toolkits.mplot3d import Axes3D\n",
    "import barnes_hut as bh\n",
    "import sys\n",
    "import random\n",
    "%matplotlib inline"
   ]
  },
  {
   "cell_type": "markdown",
   "metadata": {},
   "source": [
    "## Load data files containing initial positions of galaxies."
   ]
  },
  {
   "cell_type": "code",
   "execution_count": null,
   "metadata": {},
   "outputs": [],
   "source": [
    "galaxy_init = 'galaxies0.npy'\n",
    "galaxy_step = 'galaxies1.npy'\n",
    "gal_past = np.load(galaxy_init)\n",
    "gal_current = np.load(galaxy_step)\n",
    "gal_global = gal_current"
   ]
  },
  {
   "cell_type": "markdown",
   "metadata": {},
   "source": [
    "## Evolve the galaxy cluster! Do not run this cell unless you want to perform the simulation over again - it may take a few hours. If you only want to work with the data, it can be accessed from github (where you found this), and the post processing is below this cell!"
   ]
  },
  {
   "cell_type": "code",
   "execution_count": null,
   "metadata": {
    "scrolled": true
   },
   "outputs": [],
   "source": [
    "num_steps = 1000\n",
    "mag_change = []\n",
    "time = [0]\n",
    "step_size = bh.step_size\n",
    "\n",
    "for i in range(0, num_steps):\n",
    "    \n",
    "    change = abs(np.subtract(gal_current, gal_global))\n",
    "    \n",
    "    mag_change.append(np.max(np.sqrt(change*change)))\n",
    "    time.append(time[i] + step_size)\n",
    "    \n",
    "    if mag_change[i] > 3:\n",
    "        sys.exit(\"The simulation has advanced far enough that a particle \\\n",
    "             has moved a Mpc\")\n",
    "    \n",
    "    ## Calculate the acceleration of each galaxy.\n",
    "    accel = bh.calc_accel(gal_current, np.full(len(gal_current), 1e12))\n",
    "    \n",
    "    ## Update the positions of each galaxy.\n",
    "    pos = bh.calc_position(gal_current, gal_past, accel)\n",
    "    \n",
    "    ## The current timestep will become the n-1 timestep.\n",
    "    gal_past = gal_current\n",
    "    \n",
    "    ## The updated position will become the n timestep.\n",
    "    gal_current = pos\n",
    "    \n",
    "    ## Every 100 iterations, output a plot of the data and the \n",
    "    ## positional data for post processing.\n",
    "    if i % 10 == 0:\n",
    "        fig = plt.figure()\n",
    "        ax = fig.add_subplot(111, projection = '3d')\n",
    "        ax.set_xlim(0,13)\n",
    "        ax.set_zlim(0,13)\n",
    "        ax.set_ylim(0,13)\n",
    "        ax.set_xlabel('X')\n",
    "        ax.set_ylabel('Y')\n",
    "        ax.set_zlabel('Z')\n",
    "        plt.tight_layout()\n",
    "        ax.plot(gal_current[:,0], gal_current[:,1], gal_current[:,2], '.',color='k')\n",
    "        plt.savefig('plots/galaxies_%06d.png' % i)\n",
    "        \n",
    "        np.savetxt('plots/galaxy_pos_%06d.txt' % i, gal_current)\n",
    "        \n",
    "        print(i)"
   ]
  },
  {
   "cell_type": "markdown",
   "metadata": {},
   "source": [
    "## If we only want to work with the data and not rerun the simulation, we can plot from a datafile."
   ]
  },
  {
   "cell_type": "code",
   "execution_count": null,
   "metadata": {},
   "outputs": [],
   "source": [
    "def plot_from_file(file_name, title, savename):\n",
    "    '''\n",
    "    Summary:\n",
    "    Loads a date file and plots the galaxies within\n",
    "\n",
    "    Parameters\n",
    "    ----------\n",
    "    file_name : str, name of the file containing the data.\n",
    "    title : str, plot title\n",
    "    savename : str, name of png that will be saved in the working directory.\n",
    "    '''\n",
    "    gals = np.genfromtxt('plots/' + file_name)\n",
    "    #%matplotlib nbagg\n",
    "    fig = plt.figure()\n",
    "    ax = fig.add_subplot(111, projection = '3d')\n",
    "    ax.set_xlim(0,13)\n",
    "    ax.set_zlim(0,13)\n",
    "    ax.set_ylim(0,13)\n",
    "    ax.set_xlabel('X (Mpc)')\n",
    "    ax.set_ylabel('Y (Mpc)')\n",
    "    ax.set_zlabel('Z (Mpc)')\n",
    "    ax.set_title(title)\n",
    "    plt.tight_layout()\n",
    "    ax.plot(gals[:,0], gals[:,1], gals[:,2], '.', color='k')\n",
    "    ax.scatter(gals[20,0], gals[20,1], gals[20,2], '.', color='r')\n",
    "    plt.savefig(savename)\n",
    "    plt.show()"
   ]
  },
  {
   "cell_type": "code",
   "execution_count": null,
   "metadata": {
    "scrolled": true
   },
   "outputs": [],
   "source": [
    "for i in range(0, 6):\n",
    "    plot_from_file('galaxy_pos_000'+str(i)+'00.txt', 'Simulation time='+'{:.2e}'.format(int(time[i*100]/3.154e+7))+'yrs', 'plot_'+str(i)+'.png')"
   ]
  },
  {
   "cell_type": "markdown",
   "metadata": {},
   "source": [
    "## Plot the time it took for the galaxies to reach a separation of 3 Mpc"
   ]
  },
  {
   "cell_type": "code",
   "execution_count": null,
   "metadata": {},
   "outputs": [],
   "source": [
    "%matplotlib inline\n",
    "plt.xlabel('log(t)')\n",
    "plt.ylabel('max(R[i] - R[0])')\n",
    "plt.plot(np.log10(time[1:]), mag_change)\n",
    "plt.savefig('t_vs_maxsep.png')"
   ]
  },
  {
   "cell_type": "markdown",
   "metadata": {},
   "source": [
    "## Evolve the cluster with the added point for calculating the Lyapunov exponent."
   ]
  },
  {
   "cell_type": "code",
   "execution_count": null,
   "metadata": {
    "scrolled": false
   },
   "outputs": [],
   "source": [
    "## Read in initial date.\n",
    "galaxy_init = 'galaxies0.npy'\n",
    "galaxy_step = 'galaxies1.npy'\n",
    "\n",
    "## Add the galaxy to the initial data.\n",
    "gal_past = np.load(galaxy_init)\n",
    "gal_past = np.vstack((gal_past, [1,5,5]))\n",
    "gal_current = np.load(galaxy_step)\n",
    "gal_current = np.vstack((gal_current, [1,5,5]))\n",
    "gal_global = gal_current\n",
    "\n",
    "## Define the number of steps and arrays to store runtime variables.\n",
    "num_steps = 1000\n",
    "mag_change = []\n",
    "time = [0]\n",
    "\n",
    "step_size = bh.step_size\n",
    "\n",
    "for i in range(0, num_steps):\n",
    "    \n",
    "    ## Calculate the change in the positional vector of the particles.\n",
    "    change = abs(np.subtract(gal_current, gal_global))\n",
    "    mag_change.append(np.max(np.sqrt(change*change)))\n",
    "    time.append(time[i] + step_size)\n",
    "    \n",
    "    ## Calculate the acceleration of each galaxy.\n",
    "    accel = bh.calc_accel(gal_current, np.full(len(gal_current), 1e12))\n",
    "    \n",
    "    ## Update the positions of each galaxy.\n",
    "    pos = bh.calc_position(gal_current, gal_past, accel)\n",
    "    \n",
    "    ## The current timestep will become the n-1 timestep.\n",
    "    gal_past = gal_current\n",
    "    \n",
    "    ## The updated position will become the n timestep.\n",
    "    gal_current = pos\n",
    "    \n",
    "    ## Every 100 iterations, output a plot of the data and the \n",
    "    ## positional data for post processing.\n",
    "    if i % 10 == 0:\n",
    "        fig = plt.figure()\n",
    "        ax = fig.add_subplot(111, projection = '3d')\n",
    "        ax.set_xlim(0,13)\n",
    "        ax.set_zlim(0,13)\n",
    "        ax.set_ylim(0,13)\n",
    "        ax.set_xlabel('X')\n",
    "        ax.set_ylabel('Y')\n",
    "        ax.set_zlabel('Z')\n",
    "        plt.tight_layout()\n",
    "        ax.plot(gal_current[:,0], gal_current[:,1], gal_current[:,2], '.',color='k')\n",
    "        plt.savefig('plots_lyap_no_offset/galaxies_%06d.png' % i)\n",
    "        \n",
    "        np.savetxt('plots_lyap_no_offset/galaxy_pos_%06d.txt' % i, gal_current)\n",
    "        \n",
    "        print(i)"
   ]
  },
  {
   "cell_type": "markdown",
   "metadata": {},
   "source": [
    "## Evolve the cluster again with the added particle but now with a small offset."
   ]
  },
  {
   "cell_type": "code",
   "execution_count": null,
   "metadata": {
    "scrolled": false
   },
   "outputs": [],
   "source": [
    "galaxy_init = 'galaxies0.npy'\n",
    "galaxy_step = 'galaxies1.npy'\n",
    "gal_past = np.load(galaxy_init)\n",
    "offset = random.uniform(0, 0.01)\n",
    "gal_past = np.vstack((gal_past, [1+offset,5+offset,5+offset]))\n",
    "gal_current = np.load(galaxy_step)\n",
    "gal_current = np.vstack((gal_current, [1+offset,5+offset,5+offset]))\n",
    "gal_global = gal_current\n",
    "\n",
    "num_steps = 1000\n",
    "mag_change = []\n",
    "time = [0]\n",
    "\n",
    "step_size = bh.step_size\n",
    "\n",
    "for i in range(0, num_steps):\n",
    "    \n",
    "    change = abs(np.subtract(gal_current, gal_global))\n",
    "    \n",
    "    mag_change.append(np.max(np.sqrt(change*change)))\n",
    "    time.append(time[i] + step_size)\n",
    "    \n",
    "    ## Calculate the acceleration of each galaxy.\n",
    "    accel = bh.calc_accel(gal_current, np.full(len(gal_current), 1e12))\n",
    "    \n",
    "    ## Update the positions of each galaxy.\n",
    "    pos = bh.calc_position(gal_current, gal_past, accel)\n",
    "    \n",
    "    ## The current timestep will become the n-1 timestep.\n",
    "    gal_past = gal_current\n",
    "    \n",
    "    ## The updated position will become the n timestep.\n",
    "    gal_current = pos\n",
    "    \n",
    "    ## Every 100 iterations, output a plot of the data and the \n",
    "    ## positional data for post processing.\n",
    "    if i % 10 == 0:\n",
    "        fig = plt.figure()\n",
    "        ax = fig.add_subplot(111, projection = '3d')\n",
    "        ax.set_xlim(0,13)\n",
    "        ax.set_zlim(0,13)\n",
    "        ax.set_ylim(0,13)\n",
    "        ax.set_xlabel('X')\n",
    "        ax.set_ylabel('Y')\n",
    "        ax.set_zlabel('Z')\n",
    "        plt.tight_layout()\n",
    "        ax.plot(gal_current[:,0], gal_current[:,1], gal_current[:,2], '.',color='k')\n",
    "        plt.savefig('plots_lyap_offset/galaxies_%06d.png' % i)\n",
    "        \n",
    "        np.savetxt('plots_lyap_offset/galaxy_pos_%06d.txt' % i, gal_current)\n",
    "        \n",
    "        print(i)"
   ]
  },
  {
   "cell_type": "markdown",
   "metadata": {},
   "source": [
    "## Calculate the Lyapunov exponent"
   ]
  },
  {
   "cell_type": "code",
   "execution_count": 16,
   "metadata": {},
   "outputs": [],
   "source": [
    "## Read in the datafiles.\n",
    "true_trajectory = 'plots_lyap_no_offset/galaxy_pos_000600.txt'\n",
    "offset_trajectory = 'plots_lyap_offset/galaxy_pos_000600.txt'\n",
    "true = np.genfromtxt(true_trajectory)\n",
    "offset = np.genfromtxt(offset_trajectory)\n",
    "\n",
    "## Read in the step_size\n",
    "step_size = bh.step_size\n",
    "\n",
    "## Total time of the simulation\n",
    "evolution = step_size * 600\n",
    "\n",
    "## Access the data for the particle we added.\n",
    "R_true = np.sqrt(np.sum(true[-1]*true[-1]))\n",
    "R_offset = np.sqrt(np.sum(offset[-1]*offset[-1]))"
   ]
  },
  {
   "cell_type": "code",
   "execution_count": 17,
   "metadata": {},
   "outputs": [
    {
     "name": "stdout",
     "output_type": "stream",
     "text": [
      "7.266815423166744e-18 1.3761186183592626e+17\n"
     ]
    }
   ],
   "source": [
    "## Calculate the Lyapunov exponent\n",
    "lam = 1/evolution * np.log(R_offset/R_true)\n",
    "\n",
    "## Calculate the Lyapunov timescale in years.\n",
    "t_lam = 1 / lam\n",
    "\n",
    "print(lam, t_lam)"
   ]
  },
  {
   "cell_type": "markdown",
   "metadata": {},
   "source": [
    "## This is a complicated code to build. In addition to the class notes, here are a few resources that made this process significantly easier for me. "
   ]
  },
  {
   "cell_type": "markdown",
   "metadata": {},
   "source": [
    "Definitions - https://www.ifa.hawaii.edu/~barnes/treecode/treeguide.html\n",
    "Explanation of Barnes-Hut - https://jheer.github.io/barnes-hut/\n",
    "Algorithm Help - https://people.eecs.berkeley.edu/~demmel/cs267/lecture26/lecture26.html and https://mikegrudic.wordpress.com/2017/07/11/a-simple-and-pythonic-barnes-hut-treecode/"
   ]
  }
 ],
 "metadata": {
  "kernelspec": {
   "display_name": "Python 3",
   "language": "python",
   "name": "python3"
  },
  "language_info": {
   "codemirror_mode": {
    "name": "ipython",
    "version": 3
   },
   "file_extension": ".py",
   "mimetype": "text/x-python",
   "name": "python",
   "nbconvert_exporter": "python",
   "pygments_lexer": "ipython3",
   "version": "3.7.4"
  }
 },
 "nbformat": 4,
 "nbformat_minor": 4
}
